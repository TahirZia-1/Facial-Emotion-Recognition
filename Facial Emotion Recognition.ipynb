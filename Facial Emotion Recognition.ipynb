{
 "cells": [
  {
   "cell_type": "code",
   "execution_count": 10,
   "id": "d87a0dad-d44b-428c-99b9-2dd9566d2092",
   "metadata": {},
   "outputs": [
    {
     "name": "stdout",
     "output_type": "stream",
     "text": [
      "Requirement already satisfied: opencv-python in /Users/macbook/anaconda3/lib/python3.10/site-packages (4.8.1.78)\n",
      "Requirement already satisfied: numpy>=1.21.2 in /Users/macbook/anaconda3/lib/python3.10/site-packages (from opencv-python) (1.23.5)\n",
      "Note: you may need to restart the kernel to use updated packages.\n"
     ]
    }
   ],
   "source": [
    "pip install opencv-python"
   ]
  },
  {
   "cell_type": "code",
   "execution_count": 11,
   "id": "53e4bf05-fab1-4964-8cf0-9bc380ab9dd7",
   "metadata": {},
   "outputs": [
    {
     "name": "stdout",
     "output_type": "stream",
     "text": [
      "Requirement already satisfied: tensorflow in /Users/macbook/anaconda3/lib/python3.10/site-packages (2.15.0)\n",
      "Requirement already satisfied: h5py>=2.9.0 in /Users/macbook/anaconda3/lib/python3.10/site-packages (from tensorflow) (3.7.0)\n",
      "Requirement already satisfied: gast!=0.5.0,!=0.5.1,!=0.5.2,>=0.2.1 in /Users/macbook/anaconda3/lib/python3.10/site-packages (from tensorflow) (0.5.4)\n",
      "Requirement already satisfied: tensorboard<2.16,>=2.15 in /Users/macbook/anaconda3/lib/python3.10/site-packages (from tensorflow) (2.15.1)\n",
      "Requirement already satisfied: astunparse>=1.6.0 in /Users/macbook/anaconda3/lib/python3.10/site-packages (from tensorflow) (1.6.3)\n",
      "Requirement already satisfied: google-pasta>=0.1.1 in /Users/macbook/anaconda3/lib/python3.10/site-packages (from tensorflow) (0.2.0)\n",
      "Requirement already satisfied: keras<2.16,>=2.15.0 in /Users/macbook/anaconda3/lib/python3.10/site-packages (from tensorflow) (2.15.0)\n",
      "Requirement already satisfied: numpy<2.0.0,>=1.23.5 in /Users/macbook/anaconda3/lib/python3.10/site-packages (from tensorflow) (1.23.5)\n",
      "Requirement already satisfied: absl-py>=1.0.0 in /Users/macbook/anaconda3/lib/python3.10/site-packages (from tensorflow) (2.0.0)\n",
      "Requirement already satisfied: protobuf!=4.21.0,!=4.21.1,!=4.21.2,!=4.21.3,!=4.21.4,!=4.21.5,<5.0.0dev,>=3.20.3 in /Users/macbook/anaconda3/lib/python3.10/site-packages (from tensorflow) (4.23.4)\n",
      "Requirement already satisfied: tensorflow-estimator<2.16,>=2.15.0 in /Users/macbook/anaconda3/lib/python3.10/site-packages (from tensorflow) (2.15.0)\n",
      "Requirement already satisfied: packaging in /Users/macbook/anaconda3/lib/python3.10/site-packages (from tensorflow) (22.0)\n",
      "Requirement already satisfied: flatbuffers>=23.5.26 in /Users/macbook/anaconda3/lib/python3.10/site-packages (from tensorflow) (23.5.26)\n",
      "Requirement already satisfied: typing-extensions>=3.6.6 in /Users/macbook/anaconda3/lib/python3.10/site-packages (from tensorflow) (4.4.0)\n",
      "Requirement already satisfied: libclang>=13.0.0 in /Users/macbook/anaconda3/lib/python3.10/site-packages (from tensorflow) (16.0.6)\n",
      "Requirement already satisfied: wrapt<1.15,>=1.11.0 in /Users/macbook/anaconda3/lib/python3.10/site-packages (from tensorflow) (1.14.1)\n",
      "Requirement already satisfied: ml-dtypes~=0.2.0 in /Users/macbook/anaconda3/lib/python3.10/site-packages (from tensorflow) (0.2.0)\n",
      "Requirement already satisfied: tensorflow-io-gcs-filesystem>=0.23.1 in /Users/macbook/anaconda3/lib/python3.10/site-packages (from tensorflow) (0.35.0)\n",
      "Requirement already satisfied: termcolor>=1.1.0 in /Users/macbook/anaconda3/lib/python3.10/site-packages (from tensorflow) (2.4.0)\n",
      "Requirement already satisfied: six>=1.12.0 in /Users/macbook/anaconda3/lib/python3.10/site-packages (from tensorflow) (1.16.0)\n",
      "Requirement already satisfied: setuptools in /Users/macbook/anaconda3/lib/python3.10/site-packages (from tensorflow) (65.6.3)\n",
      "Requirement already satisfied: grpcio<2.0,>=1.24.3 in /Users/macbook/anaconda3/lib/python3.10/site-packages (from tensorflow) (1.60.0)\n",
      "Requirement already satisfied: opt-einsum>=2.3.2 in /Users/macbook/anaconda3/lib/python3.10/site-packages (from tensorflow) (3.3.0)\n",
      "Requirement already satisfied: wheel<1.0,>=0.23.0 in /Users/macbook/anaconda3/lib/python3.10/site-packages (from astunparse>=1.6.0->tensorflow) (0.38.4)\n",
      "Requirement already satisfied: requests<3,>=2.21.0 in /Users/macbook/anaconda3/lib/python3.10/site-packages (from tensorboard<2.16,>=2.15->tensorflow) (2.31.0)\n",
      "Requirement already satisfied: tensorboard-data-server<0.8.0,>=0.7.0 in /Users/macbook/anaconda3/lib/python3.10/site-packages (from tensorboard<2.16,>=2.15->tensorflow) (0.7.2)\n",
      "Requirement already satisfied: markdown>=2.6.8 in /Users/macbook/anaconda3/lib/python3.10/site-packages (from tensorboard<2.16,>=2.15->tensorflow) (3.4.1)\n",
      "Requirement already satisfied: werkzeug>=1.0.1 in /Users/macbook/anaconda3/lib/python3.10/site-packages (from tensorboard<2.16,>=2.15->tensorflow) (2.2.2)\n",
      "Requirement already satisfied: google-auth-oauthlib<2,>=0.5 in /Users/macbook/anaconda3/lib/python3.10/site-packages (from tensorboard<2.16,>=2.15->tensorflow) (1.2.0)\n",
      "Requirement already satisfied: google-auth<3,>=1.6.3 in /Users/macbook/anaconda3/lib/python3.10/site-packages (from tensorboard<2.16,>=2.15->tensorflow) (2.25.2)\n",
      "Requirement already satisfied: pyasn1-modules>=0.2.1 in /Users/macbook/anaconda3/lib/python3.10/site-packages (from google-auth<3,>=1.6.3->tensorboard<2.16,>=2.15->tensorflow) (0.2.8)\n",
      "Requirement already satisfied: cachetools<6.0,>=2.0.0 in /Users/macbook/anaconda3/lib/python3.10/site-packages (from google-auth<3,>=1.6.3->tensorboard<2.16,>=2.15->tensorflow) (5.3.2)\n",
      "Requirement already satisfied: rsa<5,>=3.1.4 in /Users/macbook/anaconda3/lib/python3.10/site-packages (from google-auth<3,>=1.6.3->tensorboard<2.16,>=2.15->tensorflow) (4.9)\n",
      "Requirement already satisfied: requests-oauthlib>=0.7.0 in /Users/macbook/anaconda3/lib/python3.10/site-packages (from google-auth-oauthlib<2,>=0.5->tensorboard<2.16,>=2.15->tensorflow) (1.3.1)\n",
      "Requirement already satisfied: urllib3<3,>=1.21.1 in /Users/macbook/anaconda3/lib/python3.10/site-packages (from requests<3,>=2.21.0->tensorboard<2.16,>=2.15->tensorflow) (1.26.14)\n",
      "Requirement already satisfied: charset-normalizer<4,>=2 in /Users/macbook/anaconda3/lib/python3.10/site-packages (from requests<3,>=2.21.0->tensorboard<2.16,>=2.15->tensorflow) (2.0.4)\n",
      "Requirement already satisfied: idna<4,>=2.5 in /Users/macbook/anaconda3/lib/python3.10/site-packages (from requests<3,>=2.21.0->tensorboard<2.16,>=2.15->tensorflow) (3.4)\n",
      "Requirement already satisfied: certifi>=2017.4.17 in /Users/macbook/anaconda3/lib/python3.10/site-packages (from requests<3,>=2.21.0->tensorboard<2.16,>=2.15->tensorflow) (2023.11.17)\n",
      "Requirement already satisfied: MarkupSafe>=2.1.1 in /Users/macbook/anaconda3/lib/python3.10/site-packages (from werkzeug>=1.0.1->tensorboard<2.16,>=2.15->tensorflow) (2.1.1)\n",
      "Requirement already satisfied: pyasn1<0.5.0,>=0.4.6 in /Users/macbook/anaconda3/lib/python3.10/site-packages (from pyasn1-modules>=0.2.1->google-auth<3,>=1.6.3->tensorboard<2.16,>=2.15->tensorflow) (0.4.8)\n",
      "Requirement already satisfied: oauthlib>=3.0.0 in /Users/macbook/anaconda3/lib/python3.10/site-packages (from requests-oauthlib>=0.7.0->google-auth-oauthlib<2,>=0.5->tensorboard<2.16,>=2.15->tensorflow) (3.2.2)\n",
      "Note: you may need to restart the kernel to use updated packages.\n"
     ]
    }
   ],
   "source": [
    "pip install tensorflow"
   ]
  },
  {
   "cell_type": "code",
   "execution_count": 12,
   "id": "81c51b4d-3132-44b3-bb16-c84c8fa57729",
   "metadata": {},
   "outputs": [
    {
     "name": "stdout",
     "output_type": "stream",
     "text": [
      "2.15.0\n"
     ]
    }
   ],
   "source": [
    "import tensorflow as tf\n",
    "print(tf.__version__)"
   ]
  },
  {
   "cell_type": "code",
   "execution_count": 13,
   "id": "746147c3-1ffd-4a3b-9d38-15039eba33a6",
   "metadata": {},
   "outputs": [],
   "source": [
    "import numpy as np\n",
    "import pandas as pd\n",
    "import matplotlib.pyplot as plt\n",
    "import seaborn as sns\n",
    "from pathlib import Path\n",
    "import glob\n",
    "import cv2"
   ]
  },
  {
   "cell_type": "code",
   "execution_count": 14,
   "id": "7daeecd8-78df-4d0b-9b31-6e0fafda7286",
   "metadata": {},
   "outputs": [],
   "source": [
    "import os\n",
    "for dirname, _, filenames in os.walk('/images'):\n",
    "    for filename in filenames:                    #traverse through the directory '/images' and its subdirectories,\n",
    "        print(os.path.join(dirname, filename))    #printing the full path of each file encountered.\n"
   ]
  },
  {
   "cell_type": "code",
   "execution_count": 15,
   "id": "146229f9-9c91-4a79-8b1c-3792e0ce4251",
   "metadata": {},
   "outputs": [],
   "source": [
    "tf.random.set_seed(23)"
   ]
  },
  {
   "cell_type": "code",
   "execution_count": 16,
   "id": "b6b529da-210a-4156-8239-6318968af0eb",
   "metadata": {},
   "outputs": [
    {
     "name": "stdout",
     "output_type": "stream",
     "text": [
      "['.DS_Store', 'train', 'validation']\n",
      "Train Classes - ['happy', 'sad', 'fear', 'surprise', 'neutral', 'angry', 'disgust']\n",
      "Validation Classes - ['happy', 'sad', 'fear', 'surprise', 'neutral', 'angry', 'disgust']\n"
     ]
    }
   ],
   "source": [
    "data_dir = 'images'\n",
    "print(os.listdir(data_dir))\n",
    "classes_train = os.listdir(data_dir + \"/train\") #This line creates a list called classes_train and populates it with the names of the directories (representing classes) found within the images/train subdirectory.\n",
    "classes_valid = os.listdir(data_dir + \"/validation\")\n",
    "print(f'Train Classes - {classes_train}')\n",
    "print(f'Validation Classes - {classes_valid}')"
   ]
  },
  {
   "cell_type": "code",
   "execution_count": 17,
   "id": "9be93d52-6a41-4383-82d0-57a04d0628f7",
   "metadata": {},
   "outputs": [],
   "source": [
    "# Creating the Pathlib PATH objects\n",
    "train_path = Path(\"/images/train\")\n",
    "valid_path = Path(\"/images/validation\")"
   ]
  },
  {
   "cell_type": "code",
   "execution_count": 19,
   "id": "8297280e-7229-45a9-adec-86a4ce09aef8",
   "metadata": {},
   "outputs": [],
   "source": [
    "train_dataset_main = data_dir + \"/train\"        # these more but same paths i made as create_dataset function below wasn't working \n",
    "valid_dataset_main = data_dir + \"/validation\"  # properly with train_path and valid_path"
   ]
  },
  {
   "cell_type": "code",
   "execution_count": 20,
   "id": "022f5f5d-632b-4083-a772-2324aac0caa0",
   "metadata": {},
   "outputs": [],
   "source": [
    "def create_dataset_df(main_path, dataset_name):\n",
    "    print(f\"{dataset_name} is being created ...\")\n",
    "    df = {\"img_path\":[],\"class_names\":[]}\n",
    "    for class_names in os.listdir(main_path):\n",
    "            for img_path in glob.glob(f\"{main_path}/{class_names}/*\"):\n",
    "                df[\"img_path\"].append(img_path)\n",
    "                df[\"class_names\"].append(class_names)\n",
    "    df = pd.DataFrame(df)\n",
    "    print(f\"{dataset_name} has been created!\")\n",
    "    return df"
   ]
  },
  {
   "cell_type": "code",
   "execution_count": 21,
   "id": "db2e1beb-cbb6-48b3-9565-2ca991a4481c",
   "metadata": {},
   "outputs": [
    {
     "name": "stdout",
     "output_type": "stream",
     "text": [
      "Train dataset is being created ...\n",
      "Train dataset has been created!\n"
     ]
    }
   ],
   "source": [
    "train_df = create_dataset_df(train_dataset_main, \"Train dataset\")"
   ]
  },
  {
   "cell_type": "code",
   "execution_count": 22,
   "id": "1540d9fa-3d97-4627-ac5d-81affdd24426",
   "metadata": {},
   "outputs": [
    {
     "name": "stdout",
     "output_type": "stream",
     "text": [
      "Validation dataset is being created ...\n",
      "Validation dataset has been created!\n"
     ]
    }
   ],
   "source": [
    "valid_df=create_dataset_df(valid_dataset_main, \"Validation dataset\")"
   ]
  },
  {
   "cell_type": "code",
   "execution_count": 23,
   "id": "0ce77766-b79e-45a1-b033-24520da95f9f",
   "metadata": {},
   "outputs": [
    {
     "data": {
      "text/html": [
       "<div>\n",
       "<style scoped>\n",
       "    .dataframe tbody tr th:only-of-type {\n",
       "        vertical-align: middle;\n",
       "    }\n",
       "\n",
       "    .dataframe tbody tr th {\n",
       "        vertical-align: top;\n",
       "    }\n",
       "\n",
       "    .dataframe thead th {\n",
       "        text-align: right;\n",
       "    }\n",
       "</style>\n",
       "<table border=\"1\" class=\"dataframe\">\n",
       "  <thead>\n",
       "    <tr style=\"text-align: right;\">\n",
       "      <th></th>\n",
       "      <th>img_path</th>\n",
       "      <th>class_names</th>\n",
       "    </tr>\n",
       "  </thead>\n",
       "  <tbody>\n",
       "    <tr>\n",
       "      <th>654</th>\n",
       "      <td>images/train/happy/15460.jpg</td>\n",
       "      <td>happy</td>\n",
       "    </tr>\n",
       "    <tr>\n",
       "      <th>20829</th>\n",
       "      <td>images/train/neutral/31776.jpg</td>\n",
       "      <td>neutral</td>\n",
       "    </tr>\n",
       "    <tr>\n",
       "      <th>449</th>\n",
       "      <td>images/train/happy/34282.jpg</td>\n",
       "      <td>happy</td>\n",
       "    </tr>\n",
       "    <tr>\n",
       "      <th>13950</th>\n",
       "      <td>images/train/fear/16093.jpg</td>\n",
       "      <td>fear</td>\n",
       "    </tr>\n",
       "    <tr>\n",
       "      <th>17749</th>\n",
       "      <td>images/train/surprise/30243.jpg</td>\n",
       "      <td>surprise</td>\n",
       "    </tr>\n",
       "  </tbody>\n",
       "</table>\n",
       "</div>"
      ],
      "text/plain": [
       "                              img_path class_names\n",
       "654       images/train/happy/15460.jpg       happy\n",
       "20829   images/train/neutral/31776.jpg     neutral\n",
       "449       images/train/happy/34282.jpg       happy\n",
       "13950      images/train/fear/16093.jpg        fear\n",
       "17749  images/train/surprise/30243.jpg    surprise"
      ]
     },
     "execution_count": 23,
     "metadata": {},
     "output_type": "execute_result"
    }
   ],
   "source": [
    "\n",
    "\n",
    "train_df.sample(5)\n",
    "\n"
   ]
  },
  {
   "cell_type": "code",
   "execution_count": 24,
   "id": "a1f7a406-5893-4227-9933-eb0937966c0c",
   "metadata": {},
   "outputs": [
    {
     "data": {
      "text/html": [
       "<div>\n",
       "<style scoped>\n",
       "    .dataframe tbody tr th:only-of-type {\n",
       "        vertical-align: middle;\n",
       "    }\n",
       "\n",
       "    .dataframe tbody tr th {\n",
       "        vertical-align: top;\n",
       "    }\n",
       "\n",
       "    .dataframe thead th {\n",
       "        text-align: right;\n",
       "    }\n",
       "</style>\n",
       "<table border=\"1\" class=\"dataframe\">\n",
       "  <thead>\n",
       "    <tr style=\"text-align: right;\">\n",
       "      <th></th>\n",
       "      <th>img_path</th>\n",
       "      <th>class_names</th>\n",
       "    </tr>\n",
       "  </thead>\n",
       "  <tbody>\n",
       "    <tr>\n",
       "      <th>2372</th>\n",
       "      <td>images/validation/sad/18732.jpg</td>\n",
       "      <td>sad</td>\n",
       "    </tr>\n",
       "    <tr>\n",
       "      <th>418</th>\n",
       "      <td>images/validation/happy/22750.jpg</td>\n",
       "      <td>happy</td>\n",
       "    </tr>\n",
       "    <tr>\n",
       "      <th>1688</th>\n",
       "      <td>images/validation/happy/26676.jpg</td>\n",
       "      <td>happy</td>\n",
       "    </tr>\n",
       "    <tr>\n",
       "      <th>3409</th>\n",
       "      <td>images/validation/fear/460.jpg</td>\n",
       "      <td>fear</td>\n",
       "    </tr>\n",
       "    <tr>\n",
       "      <th>140</th>\n",
       "      <td>images/validation/happy/21538.jpg</td>\n",
       "      <td>happy</td>\n",
       "    </tr>\n",
       "  </tbody>\n",
       "</table>\n",
       "</div>"
      ],
      "text/plain": [
       "                               img_path class_names\n",
       "2372    images/validation/sad/18732.jpg         sad\n",
       "418   images/validation/happy/22750.jpg       happy\n",
       "1688  images/validation/happy/26676.jpg       happy\n",
       "3409     images/validation/fear/460.jpg        fear\n",
       "140   images/validation/happy/21538.jpg       happy"
      ]
     },
     "execution_count": 24,
     "metadata": {},
     "output_type": "execute_result"
    }
   ],
   "source": [
    "valid_df.sample(5)"
   ]
  },
  {
   "cell_type": "code",
   "execution_count": 25,
   "id": "c45072a8-6379-465d-9d2a-5b2e53070a2a",
   "metadata": {},
   "outputs": [
    {
     "name": "stdout",
     "output_type": "stream",
     "text": [
      "training samples: 28821 \n",
      "validation samples: 7066\n"
     ]
    }
   ],
   "source": [
    "print(f\"training samples: {len(train_df)} \\nvalidation samples: {len(valid_df)}\")"
   ]
  },
  {
   "cell_type": "code",
   "execution_count": 28,
   "id": "054f45ac-7816-4a02-838a-1a1d4f277bec",
   "metadata": {},
   "outputs": [
    {
     "data": {
      "image/png": "[encoded data removed]",
      "text/plain": [
       "<Figure size 2000x600 with 2 Axes>"
      ]
     },
     "metadata": {},
     "output_type": "display_data"
    }
   ],
   "source": [
    "\n",
    "\n",
    "plt.figure(figsize=(20,6))\n",
    "# train dataset\n",
    "plt.subplot(1,2,1)\n",
    "sns.countplot(data=train_df.sort_values(\"class_names\"),x=\"class_names\")\n",
    "plt.title(\"Training dataset\")\n",
    "plt.xticks(rotation = 60)\n",
    "# validation dataset\n",
    "plt.subplot(1,2,2)\n",
    "sns.countplot(data=valid_df.sort_values(\"class_names\"),x=\"class_names\")\n",
    "plt.title(\"Validation dataset\")\n",
    "plt.xticks(rotation = 60)\n",
    "\n",
    "plt.show()\n",
    "\n"
   ]
  },
  {
   "cell_type": "code",
   "execution_count": 29,
   "id": "61b8bf4f-8101-414a-892e-86ef7566b5ff",
   "metadata": {},
   "outputs": [
    {
     "data": {
      "text/plain": [
       "3    7164\n",
       "4    4982\n",
       "5    4938\n",
       "2    4103\n",
       "0    3993\n",
       "6    3205\n",
       "1     436\n",
       "Name: class_names, dtype: int64"
      ]
     },
     "execution_count": 29,
     "metadata": {},
     "output_type": "execute_result"
    }
   ],
   "source": [
    "\n",
    "\n",
    "from sklearn.preprocessing import LabelEncoder \n",
    "\n",
    "Le = LabelEncoder()\n",
    "train_df[\"class_names\"] = Le.fit_transform(train_df[\"class_names\"])\n",
    "\n",
    "train_df[\"class_names\"].value_counts()\n",
    "\n"
   ]
  },
  {
   "cell_type": "code",
   "execution_count": 30,
   "id": "bedf8de8-f60a-470b-8293-2bbf0e371bb7",
   "metadata": {},
   "outputs": [],
   "source": [
    "valid_df[\"class_names\"] = Le.transform(valid_df[\"class_names\"])\n",
    "\n"
   ]
  },
  {
   "cell_type": "code",
   "execution_count": 31,
   "id": "6b7e66c1-c1f9-4b32-97b2-1fe4e2db528c",
   "metadata": {},
   "outputs": [
    {
     "data": {
      "text/plain": [
       "3    1825\n",
       "4    1216\n",
       "5    1139\n",
       "2    1018\n",
       "0     960\n",
       "6     797\n",
       "1     111\n",
       "Name: class_names, dtype: int64"
      ]
     },
     "execution_count": 31,
     "metadata": {},
     "output_type": "execute_result"
    }
   ],
   "source": [
    "valid_df[\"class_names\"].value_counts()"
   ]
  },
  {
   "cell_type": "markdown",
   "id": "053cd5ae-8d85-4d3b-bb49-5e6a1ec781d0",
   "metadata": {},
   "source": [
    "# One Hot Encoding"
   ]
  },
  {
   "cell_type": "code",
   "execution_count": 32,
   "id": "e805c5fc-f74b-4796-acb9-b62843a1dbc3",
   "metadata": {},
   "outputs": [],
   "source": [
    "\n",
    "train_labels = tf.keras.utils.to_categorical(train_df[\"class_names\"])\n",
    "valid_labels = tf.keras.utils.to_categorical(valid_df[\"class_names\"])\n",
    "\n"
   ]
  },
  {
   "cell_type": "code",
   "execution_count": 33,
   "id": "7129bd33-5d3f-40a4-800b-25123ecffb36",
   "metadata": {},
   "outputs": [
    {
     "data": {
      "text/plain": [
       "array([[0., 0., 0., 1., 0., 0., 0.],\n",
       "       [0., 0., 0., 1., 0., 0., 0.],\n",
       "       [0., 0., 0., 1., 0., 0., 0.],\n",
       "       [0., 0., 0., 1., 0., 0., 0.],\n",
       "       [0., 0., 0., 1., 0., 0., 0.],\n",
       "       [0., 0., 0., 1., 0., 0., 0.],\n",
       "       [0., 0., 0., 1., 0., 0., 0.],\n",
       "       [0., 0., 0., 1., 0., 0., 0.],\n",
       "       [0., 0., 0., 1., 0., 0., 0.],\n",
       "       [0., 0., 0., 1., 0., 0., 0.]], dtype=float32)"
      ]
     },
     "execution_count": 33,
     "metadata": {},
     "output_type": "execute_result"
    }
   ],
   "source": [
    "train_labels[:10]"
   ]
  },
  {
   "cell_type": "markdown",
   "id": "6ad5100e-01df-4bf2-8c93-eb30f57c5579",
   "metadata": {},
   "source": [
    "# Calculating Class Weights"
   ]
  },
  {
   "cell_type": "code",
   "execution_count": 34,
   "id": "ac6d6bd7-55ee-478f-acd7-a503c323745e",
   "metadata": {},
   "outputs": [
    {
     "name": "stdout",
     "output_type": "stream",
     "text": [
      "{0: 1.7941397, 1: 16.431192, 2: 1.7460395, 3: 1.0, 4: 1.4379767, 5: 1.4507898, 6: 2.2352574}\n"
     ]
    }
   ],
   "source": [
    "\n",
    "\n",
    "# Compute class weights \n",
    "\n",
    "classTotals = train_labels.sum(axis=0)\n",
    "classWeight = classTotals.max() / classTotals\n",
    "\n",
    "class_weight = {e : weight for e , weight in enumerate(classWeight)}\n",
    "print(class_weight)\n",
    "\n"
   ]
  },
  {
   "cell_type": "code",
   "execution_count": 35,
   "id": "5fac3e09-f10c-41a4-a290-c3e37ad80c33",
   "metadata": {},
   "outputs": [
    {
     "data": {
      "text/plain": [
       "(48, 48, 3)"
      ]
     },
     "execution_count": 35,
     "metadata": {},
     "output_type": "execute_result"
    }
   ],
   "source": [
    "input_image = cv2.imread(train_df.img_path[0])\n",
    "\n",
    "input_image.shape"
   ]
  },
  {
   "cell_type": "code",
   "execution_count": 36,
   "id": "1233a6fd-0e6a-4b44-a774-ed39d1bd279f",
   "metadata": {},
   "outputs": [],
   "source": [
    "# Function used for Transformation\n",
    "\n",
    "def load(image , label):\n",
    "    image = tf.io.read_file(image)\n",
    "    image = tf.io.decode_jpeg(image , channels = 3)\n",
    "    return image , label"
   ]
  },
  {
   "cell_type": "code",
   "execution_count": 37,
   "id": "9aa82c9a-5b29-4b1e-8bc4-b416d886e972",
   "metadata": {},
   "outputs": [],
   "source": [
    "\n",
    "\n",
    "# Define IMAGE SIZE and BATCH SIZE \n",
    "IMG_SIZE = 96 \n",
    "BATCH_SIZE = 64\n",
    "\n",
    "# Basic Transformation\n",
    "resize = tf.keras.Sequential([\n",
    "    tf.keras.layers.experimental.preprocessing.Resizing(IMG_SIZE, IMG_SIZE)          \n",
    "])\n",
    "\n",
    "# Data Augmentation\n",
    "data_augmentation = tf.keras.Sequential([\n",
    "    tf.keras.layers.experimental.preprocessing.RandomFlip(\"horizontal\"),\n",
    "    tf.keras.layers.experimental.preprocessing.RandomRotation(0.1),\n",
    "    tf.keras.layers.experimental.preprocessing.RandomZoom(height_factor = (-0.1, -0.05))\n",
    "])\n",
    "\n"
   ]
  },
  {
   "cell_type": "code",
   "execution_count": 38,
   "id": "2141eb32-9220-4f90-a6b9-5a9f2bb21d18",
   "metadata": {},
   "outputs": [],
   "source": [
    "AUTOTUNE = tf.data.experimental.AUTOTUNE #to find a good allocation of CPU budget across all parameters\n",
    "\n",
    "def get_dataset(paths , labels , train = True):\n",
    "    image_paths = tf.convert_to_tensor(paths)\n",
    "    labels = tf.convert_to_tensor(labels)\n",
    "\n",
    "    image_dataset = tf.data.Dataset.from_tensor_slices(image_paths)\n",
    "    label_dataset = tf.data.Dataset.from_tensor_slices(labels)\n",
    "\n",
    "    dataset = tf.data.Dataset.zip((image_dataset , label_dataset))\n",
    "\n",
    "    dataset = dataset.map(lambda image , label : load(image , label))\n",
    "    dataset = dataset.map(lambda image, label: (resize(image), label) , num_parallel_calls=AUTOTUNE)\n",
    "    dataset = dataset.shuffle(1000)\n",
    "    dataset = dataset.batch(BATCH_SIZE)\n",
    "\n",
    "    if train:\n",
    "        dataset = dataset.map(lambda image, label: (data_augmentation(image), label) , num_parallel_calls=AUTOTUNE)\n",
    "        dataset = dataset.repeat()\n",
    "    \n",
    "    return dataset"
   ]
  },
  {
   "cell_type": "code",
   "execution_count": 39,
   "id": "d437f007-fb87-41a0-a9f5-7618746a525d",
   "metadata": {},
   "outputs": [
    {
     "name": "stdout",
     "output_type": "stream",
     "text": [
      "(64, 96, 96, 3)\n",
      "(64, 7)\n"
     ]
    }
   ],
   "source": [
    "# Creating Train Dataset object and Verifying it\n",
    "\n",
    "train_dataset = get_dataset(train_df[\"img_path\"], train_labels)\n",
    "\n",
    "#iter() returns an iterator of the given object\n",
    "#next() returns the next number in an iterator\n",
    "image , label = next(iter(train_dataset)) \n",
    "print(image.shape)\n",
    "print(label.shape)"
   ]
  },
  {
   "cell_type": "code",
   "execution_count": 40,
   "id": "c82c1131-3ac5-419a-af19-62f9f5997a04",
   "metadata": {},
   "outputs": [
    {
     "name": "stdout",
     "output_type": "stream",
     "text": [
      "happy\n"
     ]
    },
    {
     "data": {
      "text/plain": [
       "<matplotlib.image.AxesImage at 0x7f91a8bbf8e0>"
      ]
     },
     "execution_count": 40,
     "metadata": {},
     "output_type": "execute_result"
    },
    {
     "data": {
      "image/png": "[encoded data removed]",
      "text/plain": [
       "<Figure size 640x480 with 1 Axes>"
      ]
     },
     "metadata": {},
     "output_type": "display_data"
    }
   ],
   "source": [
    "# View a sample Training Image\n",
    "print(Le.inverse_transform(np.argmax(label , axis = 1))[0])\n",
    "plt.imshow((image[0].numpy()/255).reshape(96 , 96 , 3))"
   ]
  },
  {
   "cell_type": "code",
   "execution_count": 41,
   "id": "6b6655f2-f94c-441d-9a8f-9e6b40c84c2f",
   "metadata": {},
   "outputs": [
    {
     "name": "stdout",
     "output_type": "stream",
     "text": [
      "(64, 96, 96, 3)\n",
      "(64, 7)\n"
     ]
    }
   ],
   "source": [
    "val_dataset = get_dataset(valid_df[\"img_path\"] , valid_labels , train = False)\n",
    "\n",
    "image , label = next(iter(val_dataset))\n",
    "print(image.shape)\n",
    "print(label.shape)\n"
   ]
  },
  {
   "cell_type": "code",
   "execution_count": 42,
   "id": "83acfdf8-5866-446d-bdc0-de3ea994e178",
   "metadata": {},
   "outputs": [
    {
     "name": "stdout",
     "output_type": "stream",
     "text": [
      "happy\n"
     ]
    },
    {
     "data": {
      "text/plain": [
       "<matplotlib.image.AxesImage at 0x7f91a8c35ba0>"
      ]
     },
     "execution_count": 42,
     "metadata": {},
     "output_type": "execute_result"
    },
    {
     "data": {
      "image/png": "[encoded data removed]",
      "text/plain": [
       "<Figure size 640x480 with 1 Axes>"
      ]
     },
     "metadata": {},
     "output_type": "display_data"
    }
   ],
   "source": [
    " #View a sample Validation Image\n",
    "print(Le.inverse_transform(np.argmax(label , axis = 1))[0])\n",
    "plt.imshow((image[0].numpy()/255).reshape(96 , 96 , 3))\n",
    "\n"
   ]
  },
  {
   "cell_type": "code",
   "execution_count": 43,
   "id": "b4eb4b55-024e-4365-88da-2f5d7ee3747a",
   "metadata": {},
   "outputs": [
    {
     "name": "stdout",
     "output_type": "stream",
     "text": [
      "Model: \"sequential_2\"\n",
      "_________________________________________________________________\n",
      " Layer (type)                Output Shape              Param #   \n",
      "=================================================================\n",
      " efficientnetb2 (Functional  (None, 3, 3, 1408)        7768569   \n",
      " )                                                               \n",
      "                                                                 \n",
      " conv2d (Conv2D)             (None, 3, 3, 128)         1622144   \n",
      "                                                                 \n",
      " global_average_pooling2d (  (None, 128)               0         \n",
      " GlobalAveragePooling2D)                                         \n",
      "                                                                 \n",
      " dense (Dense)               (None, 128)               16512     \n",
      "                                                                 \n",
      " dropout (Dropout)           (None, 128)               0         \n",
      "                                                                 \n",
      " dense_1 (Dense)             (None, 7)                 903       \n",
      "                                                                 \n",
      "=================================================================\n",
      "Total params: 9408128 (35.89 MB)\n",
      "Trainable params: 9340553 (35.63 MB)\n",
      "Non-trainable params: 67575 (263.97 KB)\n",
      "_________________________________________________________________\n"
     ]
    }
   ],
   "source": [
    "#Building EfficientNet model\n",
    "# from tensorflow.keras.applications import EfficientNetB2\n",
    "\n",
    "# backbone = EfficientNetB2(\n",
    "#     input_shape=(96, 96, 3),\n",
    "#     include_top=False\n",
    "# )\n",
    "\n",
    "# model = tf.keras.Sequential([\n",
    "#     backbone,\n",
    "#     tf.keras.layers.Conv2D(128, 3, padding='same', activation='relu'),\n",
    "#     tf.keras.layers.GlobalAveragePooling2D(),\n",
    "#     tf.keras.layers.Dense(128, activation='relu'),\n",
    "#     tf.keras.layers.Dropout(0.3),\n",
    "#     tf.keras.layers.Dense(7, activation='softmax')\n",
    "# ])\n",
    "\n",
    "# model.summary()\n"
   ]
  },
  {
   "cell_type": "code",
   "execution_count": 44,
   "id": "74caa9bc-53f6-4f30-978c-734b08af5ae4",
   "metadata": {},
   "outputs": [],
   "source": [
    "# Compiling your model by providing the Optimizer , Loss and Metrics\n",
    "model.compile(\n",
    "    optimizer=tf.keras.optimizers.Adam(learning_rate=0.001, beta_1=0.9, beta_2=0.999, epsilon=1e-07),\n",
    "    loss = 'categorical_crossentropy',\n",
    "    metrics=['accuracy' , tf.keras.metrics.Precision(name='precision'),tf.keras.metrics.Recall(name='recall')]\n",
    ")\n"
   ]
  },
  {
   "cell_type": "code",
   "execution_count": 45,
   "id": "5abbed01-e683-440c-b9e8-f77629624ecb",
   "metadata": {},
   "outputs": [
    {
     "data": {
      "text/plain": [
       "(28821, 7066)"
      ]
     },
     "execution_count": 45,
     "metadata": {},
     "output_type": "execute_result"
    }
   ],
   "source": [
    "len(train_labels),len(valid_labels)"
   ]
  },
  {
   "cell_type": "code",
   "execution_count": 46,
   "id": "a2eb1943-6984-4f7f-8203-1b72710e9dc0",
   "metadata": {},
   "outputs": [],
   "source": [
    "#early_stopping=tf.keras.callbacks.EarlyStopping(monitor=\"accuracy\",patience=2,mode=\"auto\")"
   ]
  },
  {
   "cell_type": "code",
   "execution_count": 48,
   "id": "f1809a30-acdd-4374-b1c9-b50e96b6a359",
   "metadata": {},
   "outputs": [
    {
     "name": "stdout",
     "output_type": "stream",
     "text": [
      "Epoch 1/8\n",
      "450/450 [==============================] - 1289s 3s/step - loss: 1.1379 - accuracy: 0.8566 - precision: 0.8769 - recall: 0.8330 - val_loss: 73.3131 - val_accuracy: 0.1273 - val_precision: 0.1273 - val_recall: 0.1273\n",
      "Epoch 2/8\n",
      "450/450 [==============================] - 1217s 3s/step - loss: 1.1433 - accuracy: 0.8440 - precision: 0.8788 - recall: 0.8030 - val_loss: 9.3603 - val_accuracy: 0.0908 - val_precision: 0.1077 - val_recall: 0.0649\n",
      "Epoch 3/8\n",
      "450/450 [==============================] - 1221s 3s/step - loss: 1.2253 - accuracy: 0.8381 - precision: 0.8778 - recall: 0.7937 - val_loss: 6.4462 - val_accuracy: 0.0155 - val_precision: 0.0156 - val_recall: 0.0141\n",
      "Epoch 4/8\n",
      "450/450 [==============================] - 1435s 3s/step - loss: 1.1181 - accuracy: 0.8254 - precision: 0.8587 - recall: 0.7820 - val_loss: 9.3085 - val_accuracy: 0.0155 - val_precision: 0.0155 - val_recall: 0.0155\n",
      "Epoch 5/8\n",
      "450/450 [==============================] - 1665s 4s/step - loss: 1.3019 - accuracy: 0.8199 - precision: 0.8674 - recall: 0.7670 - val_loss: 17.1392 - val_accuracy: 0.0155 - val_precision: 0.0154 - val_recall: 0.0153\n",
      "Epoch 6/8\n",
      "450/450 [==============================] - 1252s 3s/step - loss: 1.2871 - accuracy: 0.7979 - precision: 0.8444 - recall: 0.7492 - val_loss: 2.6395 - val_accuracy: 0.0155 - val_precision: 0.0159 - val_recall: 0.0057\n",
      "Epoch 7/8\n",
      "450/450 [==============================] - 1238s 3s/step - loss: 1.2072 - accuracy: 0.8171 - precision: 0.8616 - recall: 0.7658 - val_loss: 5.8449 - val_accuracy: 0.0146 - val_precision: 0.0146 - val_recall: 0.0146\n",
      "Epoch 8/8\n",
      "450/450 [==============================] - 1272s 3s/step - loss: 1.4764 - accuracy: 0.8112 - precision: 0.8558 - recall: 0.7484 - val_loss: 2.1885 - val_accuracy: 0.0158 - val_precision: 0.0000e+00 - val_recall: 0.0000e+00\n"
     ]
    }
   ],
   "source": [
    "# Train the model\n",
    "# history = model.fit(\n",
    "#     train_dataset,\n",
    "#     steps_per_epoch=len(train_labels)//BATCH_SIZE,\n",
    "#     epochs=8,\n",
    "#     validation_data=val_dataset,\n",
    "#     validation_steps = len(valid_labels)//BATCH_SIZE,\n",
    "#     class_weight=class_weight\n",
    "# )\n"
   ]
  },
  {
   "cell_type": "code",
   "execution_count": null,
   "id": "eed75a92-e7be-4d3c-9cf3-ae3d52078241",
   "metadata": {},
   "outputs": [],
   "source": []
  },
  {
   "cell_type": "code",
   "execution_count": 54,
   "id": "887b7f74-0078-4726-8cb4-45a916cd4835",
   "metadata": {},
   "outputs": [
    {
     "name": "stdout",
     "output_type": "stream",
     "text": [
      "111/111 [==============================] - 58s 519ms/step\n",
      "[[0.18555108 0.23902567 0.1151749  ... 0.16158794 0.07087128 0.14238057]\n",
      " [0.17864095 0.23221102 0.11441611 ... 0.16623929 0.0731893  0.14540324]\n",
      " [0.18936001 0.2411788  0.11436934 ... 0.16364093 0.06805447 0.14343692]\n",
      " ...\n",
      " [0.19002119 0.2358076  0.11378663 ... 0.1693481  0.06791669 0.14605188]\n",
      " [0.1905623  0.24387757 0.11300561 ... 0.16370103 0.06661134 0.1430229 ]\n",
      " [0.19498023 0.23870263 0.11042048 ... 0.17663674 0.06178346 0.14986655]]\n"
     ]
    }
   ],
   "source": [
    "import itertools  # Import 'itertools' for iterators and looping\n",
    "from collections import Counter"
   ]
  },
  {
   "cell_type": "code",
   "execution_count": 57,
   "id": "b30c450a-ace4-47d5-829c-16b7980f254e",
   "metadata": {},
   "outputs": [
    {
     "name": "stdout",
     "output_type": "stream",
     "text": [
      "111/111 [==============================] - 60s 537ms/step - loss: 2.1869 - accuracy: 0.0157 - precision: 0.0000e+00 - recall: 0.0000e+00\n",
      "[2.1868627071380615, 0.015709029510617256, 0.0, 0.0]\n"
     ]
    }
   ],
   "source": [
    "evaluation_results = model.evaluate(val_dataset)\n",
    "print(evaluation_results)"
   ]
  },
  {
   "cell_type": "code",
   "execution_count": 59,
   "id": "eca1db09-5cd1-4afc-92be-c7bbbaf6b80d",
   "metadata": {},
   "outputs": [
    {
     "name": "stdout",
     "output_type": "stream",
     "text": [
      "111/111 [==============================] - 61s 550ms/step\n",
      "[[0.1894647  0.24465975 0.11237123 ... 0.16175501 0.06789614 0.1415285 ]\n",
      " [0.18977612 0.24129501 0.11385709 ... 0.1643524  0.06763902 0.14359963]\n",
      " [0.18761465 0.23974995 0.11458878 ... 0.16322121 0.069349   0.14313592]\n",
      " ...\n",
      " [0.18958633 0.24114574 0.11430489 ... 0.16390066 0.06790326 0.14355665]\n",
      " [0.19060257 0.23957266 0.11402465 ... 0.16619502 0.0673922  0.14462118]\n",
      " [0.19451888 0.24207874 0.11238728 ... 0.16857229 0.06428856 0.1454555 ]]\n"
     ]
    }
   ],
   "source": [
    "# outputs = model.predict(val_dataset)\n",
    "# print(outputs)\n"
   ]
  },
  {
   "cell_type": "code",
   "execution_count": 80,
   "id": "09a7400a-cc44-4e55-804d-770741908312",
   "metadata": {},
   "outputs": [],
   "source": [
    "# model.save(\"my_model.keras\")"
   ]
  },
  {
   "cell_type": "code",
   "execution_count": 81,
   "id": "d867cabd-dc25-4a17-9353-d0ef5083c018",
   "metadata": {},
   "outputs": [],
   "source": [
    "from tensorflow.keras.models import load_model\n",
    "\n",
    "loaded_model = load_model(\"my_model.keras\")"
   ]
  },
  {
   "cell_type": "code",
   "execution_count": 88,
   "id": "e255ee0f-816e-4a46-bfa2-35f7276f0089",
   "metadata": {},
   "outputs": [],
   "source": [
    "# val_data = np.array(list(val_dataset))\n",
    "# tensor_data = tf.convert_to_tensor(val_data[1])\n",
    "# predictions = loaded_model.predict(tensor_data)"
   ]
  },
  {
   "cell_type": "code",
   "execution_count": 90,
   "id": "f4cbc3cd-85ce-42c0-b018-6833b9a0d2ab",
   "metadata": {},
   "outputs": [
    {
     "name": "stdout",
     "output_type": "stream",
     "text": [
      "28302\n"
     ]
    }
   ],
   "source": [
    "\n",
    "# predicted_class = np.argmax(outputs)\n",
    "# print(predicted_class)"
   ]
  },
  {
   "cell_type": "code",
   "execution_count": 98,
   "id": "0edb35ea-5ef8-4c97-9062-f2a83c6f58af",
   "metadata": {},
   "outputs": [
    {
     "name": "stdout",
     "output_type": "stream",
     "text": [
      "1/1 [==============================] - 0s 256ms/step\n"
     ]
    }
   ],
   "source": [
    "from tensorflow.keras.preprocessing import image\n",
    "\n",
    "img_path = \"images/validation/fear/21.jpg\"\n",
    "img = image.load_img(img_path, target_size=(96, 96))  # Assuming 224x224 input\n",
    "img_array = image.img_to_array(img)\n",
    "img_batch = np.expand_dims(img_array, axis=0)  # Add batch dimension\n",
    "\n",
    "# Make prediction\n",
    "predictions = loaded_model.predict(img_batch)\n",
    "predicted_class = np.argmax(predictions) \n",
    "#print(predicted_class)"
   ]
  },
  {
   "cell_type": "code",
   "execution_count": 99,
   "id": "04d6ad5f-d450-4c0b-8b37-0e47a89ef636",
   "metadata": {},
   "outputs": [
    {
     "name": "stdout",
     "output_type": "stream",
     "text": [
      "1\n"
     ]
    }
   ],
   "source": [
    "print(predicted_class)"
   ]
  },
  {
   "cell_type": "code",
   "execution_count": null,
   "id": "015f467d-6fd4-4e6c-a6c8-e11b6d9c66e9",
   "metadata": {},
   "outputs": [],
   "source": []
  }
 ],
 "metadata": {
  "kernelspec": {
   "display_name": "Python 3 (ipykernel)",
   "language": "python",
   "name": "python3"
  },
  "language_info": {
   "codemirror_mode": {
    "name": "ipython",
    "version": 3
   },
   "file_extension": ".py",
   "mimetype": "text/x-python",
   "name": "python",
   "nbconvert_exporter": "python",
   "pygments_lexer": "ipython3",
   "version": "3.10.9"
  }
 },
 "nbformat": 4,
 "nbformat_minor": 5
}
